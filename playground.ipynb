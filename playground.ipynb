{
 "cells": [
  {
   "cell_type": "code",
   "execution_count": 1,
   "id": "79fa1a70-dcc0-4fc0-9a8c-405d77ad06d4",
   "metadata": {},
   "outputs": [],
   "source": [
    "from forger import Forger\n",
    "import matplotlib.pyplot as plt\n",
    "from os import path"
   ]
  },
  {
   "cell_type": "code",
   "execution_count": 5,
   "id": "674ff307-6597-4d6a-837e-db9d71448522",
   "metadata": {},
   "outputs": [],
   "source": [
    "alias = 'heart_metin'"
   ]
  },
  {
   "cell_type": "code",
   "execution_count": 6,
   "id": "810a765f-a083-4520-adf9-f815272717e6",
   "metadata": {},
   "outputs": [],
   "source": [
    "filename = f'assets/{alias}.png'"
   ]
  },
  {
   "cell_type": "code",
   "execution_count": 7,
   "id": "90dcf1bc-3854-4a50-b901-e06d1a543ef6",
   "metadata": {},
   "outputs": [
    {
     "name": "stderr",
     "output_type": "stream",
     "text": [
      "  0%|                                                                                                                                 | 0/500 [00:00<?, ?it/s]Warning: Ignoring XDG_SESSION_TYPE=wayland on Gnome. Use QT_QPA_PLATFORM=wayland to run on Wayland anyway.\n",
      "100%|███████████████████████████████████████████████████████████████████████████████████████████████████████████████████████| 500/500 [01:38<00:00,  5.06it/s]\n"
     ]
    }
   ],
   "source": [
    "f = Forger(filename, population_size=1000, generation_num=500, parent_num=50, dynamic_path=False)\n",
    "\n",
    "results = f.fabricate(mu = 0.03, foldername = alias)"
   ]
  },
  {
   "cell_type": "code",
   "execution_count": 8,
   "id": "f943bdfa-a9fd-46a0-b0b9-54b215e96e95",
   "metadata": {},
   "outputs": [
    {
     "data": {
      "image/png": "[encoded data removed]",
      "text/plain": [
       "<Figure size 432x288 with 1 Axes>"
      ]
     },
     "metadata": {
      "needs_background": "light"
     },
     "output_type": "display_data"
    }
   ],
   "source": [
    "plt.plot(results)\n",
    "plt.title(f'{alias}')\n",
    "plt.xlabel('Generation')\n",
    "plt.ylabel('Fitness')\n",
    "plt.savefig(path.join(alias, 'fitness.png'), dpi=600)\n",
    "plt.show()"
   ]
  },
  {
   "cell_type": "code",
   "execution_count": null,
   "id": "f03f26b0-f806-4ec4-a95f-9904129c8a13",
   "metadata": {},
   "outputs": [],
   "source": []
  }
 ],
 "metadata": {
  "kernelspec": {
   "display_name": "Python 3 (ipykernel)",
   "language": "python",
   "name": "python3"
  },
  "language_info": {
   "codemirror_mode": {
    "name": "ipython",
    "version": 3
   },
   "file_extension": ".py",
   "mimetype": "text/x-python",
   "name": "python",
   "nbconvert_exporter": "python",
   "pygments_lexer": "ipython3",
   "version": "3.10.4"
  }
 },
 "nbformat": 4,
 "nbformat_minor": 5
}
