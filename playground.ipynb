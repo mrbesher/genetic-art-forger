{
 "cells": [
  {
   "cell_type": "code",
   "execution_count": 1,
   "id": "36f0339e",
   "metadata": {},
   "outputs": [],
   "source": [
    "import numpy as np\n",
    "import cv2 as cv\n",
    "import random\n",
    "from tqdm import tqdm"
   ]
  },
  {
   "cell_type": "code",
   "execution_count": 2,
   "id": "499a45af-eb69-4bd3-8d63-f43d611b0b4e",
   "metadata": {},
   "outputs": [],
   "source": [
    "# Global variables\n",
    "MIN_CHOICE = 0\n",
    "MAX_CHOICE = 8\n",
    "\n",
    "# population size and number of generations\n",
    "population_size = 10000\n",
    "generation_num = 50\n",
    "parent_num = 30\n",
    "\n",
    "# A list of lambda functions to optimize direction finding\n",
    "ST = lambda x,y: (x,y)\n",
    "UL = lambda x,y: (x-1, y-1)\n",
    "UU = lambda x,y: (x-1, y)\n",
    "UR = lambda x,y: (x-1, y+1)\n",
    "RR = lambda x,y: (x, y+1)\n",
    "DR = lambda x,y: (x+1, y+1)\n",
    "DD = lambda x,y: (x+1, y)\n",
    "DL = lambda x,y: (x+1, y-1)\n",
    "LL = lambda x,y: (x, y-1)\n",
    "\n",
    "DIRECTION_FINDERS = [ST, UL, UU, UR, RR, DR, DD, DL, LL]"
   ]
  },
  {
   "cell_type": "code",
   "execution_count": 3,
   "id": "c332d791-a3bc-4432-9d8a-bf254ead6562",
   "metadata": {},
   "outputs": [],
   "source": [
    "def read_binary_img(filename = 'assets/ex1.png'):\n",
    "    img = cv.imread(filename, cv.IMREAD_GRAYSCALE)\n",
    "    _, im_bw = cv.threshold(img, 128, 255, cv.THRESH_BINARY)\n",
    "    return np.invert(im_bw.astype(dtype=bool))"
   ]
  },
  {
   "cell_type": "code",
   "execution_count": 4,
   "id": "5fad878c",
   "metadata": {},
   "outputs": [],
   "source": [
    "def similarity_score(src, tgt, c1 = 0.75, c2 = 0.25):\n",
    "    \"\"\"\n",
    "    calculates a score for similarity between the given arrays\n",
    "    `src` and `tgt`\n",
    "\n",
    "    :param src: the first array to compare\n",
    "    :param tgt: the second array to compare\n",
    "    :param c1: a coefficient for matching cells\n",
    "    :param c2: a coefficient for non-matching cells\n",
    "    \"\"\"\n",
    "    \n",
    "    # count the ones and zeros in the target image\n",
    "    ones = np.count_nonzero(tgt)\n",
    "    zeros = tgt.size - ones\n",
    "    \n",
    "    # count the ones and zeros matching the target\n",
    "    matching_ones = np.count_nonzero((src == True) & (src == tgt))\n",
    "    matching_zeros = np.count_nonzero((src == False) & (src == tgt))\n",
    "\n",
    "    return c1 * matching_ones / ones + c2 * matching_zeros / zeros"
   ]
  },
  {
   "cell_type": "code",
   "execution_count": 5,
   "id": "b30f6b02-a7f5-4fd4-9958-3fe6c436ae06",
   "metadata": {},
   "outputs": [],
   "source": [
    "def calc_path_len(tgt):\n",
    "    ones = np.count_nonzero(tgt)\n",
    "    diag = max(tgt.shape)\n",
    "    \n",
    "    # the legth of the path is the black pixels + the max\n",
    "    # steps needed to reach start position\n",
    "    return {\n",
    "        'max': min(ones * 2 + diag, tgt.size),\n",
    "        'min': ones\n",
    "    }"
   ]
  },
  {
   "cell_type": "code",
   "execution_count": 6,
   "id": "a35d6e56-1aa9-4175-a043-77276a7068ed",
   "metadata": {},
   "outputs": [],
   "source": [
    "def execute_path(path, img_shape = (20, 20)):\n",
    "    \"\"\"\n",
    "    returns a numpy array with `path` executed on it\n",
    "    turning each element passed through to True\n",
    "    \"\"\"\n",
    "    blank = np.zeros(img_shape, dtype=bool)\n",
    "    x, y = blank.shape[0]- 1, 0\n",
    "    blank[x][y] = True\n",
    "    for s in path:\n",
    "        x_new, y_new = DIRECTION_FINDERS[s](x, y)\n",
    "        try:\n",
    "            blank[x_new][y_new] = True\n",
    "            x, y = x_new, y_new\n",
    "        except IndexError:\n",
    "            continue\n",
    "    return blank"
   ]
  },
  {
   "cell_type": "code",
   "execution_count": 7,
   "id": "d63ebd90-c2b6-4443-ada3-4f9ff61e352c",
   "metadata": {},
   "outputs": [],
   "source": [
    "def generate_random_path(size, min_steps):\n",
    "    path_start = np.random.randint(MIN_CHOICE + 1, MAX_CHOICE, size = min_steps)\n",
    "    path_rest = np.random.randint(MIN_CHOICE, MAX_CHOICE, size = size - min_steps)\n",
    "    return np.concatenate((path_start, path_rest))"
   ]
  },
  {
   "cell_type": "code",
   "execution_count": 8,
   "id": "b63a478e-be0c-4bed-971b-3442c720c345",
   "metadata": {},
   "outputs": [],
   "source": [
    "def fitness(path, tgt):\n",
    "    result_img = execute_path(path, tgt.shape)\n",
    "    return similarity_score(result_img, tgt)"
   ]
  },
  {
   "cell_type": "code",
   "execution_count": 9,
   "id": "cf6042fc-1ca7-424c-9399-fe3f6237d4d0",
   "metadata": {},
   "outputs": [],
   "source": [
    "def crossover(parents, offspring_size):\n",
    "    # crossover index\n",
    "    c_idx = np.uint8(offspring_size/2)\n",
    "    \n",
    "    # the best parents mating is not always the best option\n",
    "    np.random.shuffle(parents)\n",
    "    num_parents = len(parents)\n",
    "    \n",
    "    offspring = [np.concatenate((parents[k % num_parents][0: c_idx], parents[(k+1) % num_parents][c_idx:])) for k in range(offspring_size)]\n",
    "    \n",
    "    return offspring"
   ]
  },
  {
   "cell_type": "code",
   "execution_count": 10,
   "id": "e33c7297-d934-4ea5-b4da-8f58334ffd34",
   "metadata": {},
   "outputs": [],
   "source": [
    "def mutate(population, mu = 0.01):\n",
    "    path_len = population[0].shape[0]\n",
    "    \n",
    "    for indiv_idx in range(len(population)):\n",
    "        indices = random.sample(range(path_len), int(path_len * mu))\n",
    "        for step_idx in indices:\n",
    "            r = (population[indiv_idx][step_idx] + np.random.randint(0, 8)) % (MAX_CHOICE + 1)\n",
    "            population[indiv_idx][step_idx] = r\n",
    "    return population"
   ]
  },
  {
   "cell_type": "code",
   "execution_count": 11,
   "id": "6fd89a85-914f-4803-ba08-977210b5df24",
   "metadata": {},
   "outputs": [],
   "source": [
    "def plot_path(path, img_shape=(20,20)):\n",
    "    img = np.invert(execute_path(path, img_shape))\n",
    "    img = img.astype(np.uint8)  #convert to an unsigned byte\n",
    "    img *= 255\n",
    "    cv.imshow('Indices',img)\n",
    "    cv.waitKey(0)\n",
    "    cv.destroyAllWindows() "
   ]
  },
  {
   "cell_type": "code",
   "execution_count": 12,
   "id": "c2d9490c-95bd-4ba9-b340-31d88b378c04",
   "metadata": {},
   "outputs": [],
   "source": [
    "img = read_binary_img()\n",
    "path = calc_path_len(img)"
   ]
  },
  {
   "cell_type": "code",
   "execution_count": 13,
   "id": "9e90cc41-14e1-47ce-b0b9-ca06079dca94",
   "metadata": {},
   "outputs": [],
   "source": [
    "paths = [generate_random_path(path['max'], path['min']) for _ in range(population_size)]"
   ]
  },
  {
   "cell_type": "code",
   "execution_count": 14,
   "id": "95f32fa6-db58-4636-a8bd-e2224daecfc7",
   "metadata": {},
   "outputs": [],
   "source": [
    "paths.sort(reverse = True, key = lambda p: fitness(p, img))"
   ]
  },
  {
   "cell_type": "code",
   "execution_count": 15,
   "id": "2c5b9335-3234-48db-bd82-48aa70eb8646",
   "metadata": {},
   "outputs": [
    {
     "data": {
      "text/plain": [
       "0.5478667459301262"
      ]
     },
     "execution_count": 15,
     "metadata": {},
     "output_type": "execute_result"
    }
   ],
   "source": [
    "fitness(paths[0], img)"
   ]
  },
  {
   "cell_type": "code",
   "execution_count": 16,
   "id": "13f29fac-52b8-4e1e-b350-7aed27c32c94",
   "metadata": {},
   "outputs": [
    {
     "name": "stderr",
     "output_type": "stream",
     "text": [
      "100%|█████████████████████████████████████████████████████████████████████████████████████████████████████████████████████████| 50/50 [03:41<00:00,  4.44s/it]"
     ]
    },
    {
     "name": "stdout",
     "output_type": "stream",
     "text": [
      "CPU times: user 3min 41s, sys: 146 ms, total: 3min 42s\n",
      "Wall time: 3min 41s\n"
     ]
    },
    {
     "name": "stderr",
     "output_type": "stream",
     "text": [
      "\n"
     ]
    }
   ],
   "source": [
    "%%time\n",
    "pbar = tqdm(total=generation_num)\n",
    "for _ in range(generation_num):\n",
    "    parents = paths[:parent_num]\n",
    "    offspring = crossover(parents, offspring_size = population_size - parent_num)\n",
    "    offspring = mutate(offspring)\n",
    "    paths = parents + offspring\n",
    "    paths.sort(reverse = True, key = lambda p: fitness(p, img))\n",
    "    pbar.update(1)\n",
    "pbar.close()"
   ]
  },
  {
   "cell_type": "code",
   "execution_count": 17,
   "id": "6684fad4-363d-4d9a-b623-2f6f240038e9",
   "metadata": {},
   "outputs": [
    {
     "data": {
      "text/plain": [
       "0.763387141027986"
      ]
     },
     "execution_count": 17,
     "metadata": {},
     "output_type": "execute_result"
    }
   ],
   "source": [
    "fitness(paths[0], img)"
   ]
  },
  {
   "cell_type": "code",
   "execution_count": null,
   "id": "346a9748-5b60-4f9f-b0ec-23ec4f906cb6",
   "metadata": {},
   "outputs": [
    {
     "name": "stderr",
     "output_type": "stream",
     "text": [
      "Warning: Ignoring XDG_SESSION_TYPE=wayland on Gnome. Use QT_QPA_PLATFORM=wayland to run on Wayland anyway.\n"
     ]
    }
   ],
   "source": [
    "plot_path(paths[0], img_shape = img.shape)"
   ]
  },
  {
   "cell_type": "code",
   "execution_count": null,
   "id": "90dcf1bc-3854-4a50-b901-e06d1a543ef6",
   "metadata": {},
   "outputs": [],
   "source": []
  }
 ],
 "metadata": {
  "kernelspec": {
   "display_name": "Python 3 (ipykernel)",
   "language": "python",
   "name": "python3"
  },
  "language_info": {
   "codemirror_mode": {
    "name": "ipython",
    "version": 3
   },
   "file_extension": ".py",
   "mimetype": "text/x-python",
   "name": "python",
   "nbconvert_exporter": "python",
   "pygments_lexer": "ipython3",
   "version": "3.10.4"
  }
 },
 "nbformat": 4,
 "nbformat_minor": 5
}
